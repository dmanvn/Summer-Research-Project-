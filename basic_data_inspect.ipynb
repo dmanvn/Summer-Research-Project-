{
  "nbformat": 4,
  "nbformat_minor": 0,
  "metadata": {
    "colab": {
      "name": "basic-data-inspect.ipynb",
      "provenance": [],
      "mount_file_id": "10t1i_L6ZXYaP3usQoCKKb-XImpJWgXW_",
      "authorship_tag": "ABX9TyPGMykRK69+2Rsv6apaY1yb",
      "include_colab_link": true
    },
    "kernelspec": {
      "name": "python3",
      "display_name": "Python 3"
    }
  },
  "cells": [
    {
      "cell_type": "markdown",
      "metadata": {
        "id": "view-in-github",
        "colab_type": "text"
      },
      "source": [
        "<a href=\"https://colab.research.google.com/github/yuxuan0702/Summer-Research-Project-/blob/master/basic_data_inspect.ipynb\" target=\"_parent\"><img src=\"https://colab.research.google.com/assets/colab-badge.svg\" alt=\"Open In Colab\"/></a>"
      ]
    },
    {
      "cell_type": "code",
      "metadata": {
        "id": "_sSROEWX4DNx",
        "colab_type": "code",
        "colab": {
          "base_uri": "https://localhost:8080/",
          "height": 71
        },
        "outputId": "a0b7a9b5-e621-402d-8960-9ba1de2857d3"
      },
      "source": [
        "#import packages \n",
        "import numpy as np\n",
        "import pandas as pd\n",
        "import matplotlib.pyplot as plt \n",
        "import seaborn as sns\n",
        "\n",
        "pd.options.display.max_rows = 999\n",
        "plt.style.use('fivethirtyeight')\n",
        "%matplotlib inline"
      ],
      "execution_count": 1,
      "outputs": [
        {
          "output_type": "stream",
          "text": [
            "/usr/local/lib/python3.6/dist-packages/statsmodels/tools/_testing.py:19: FutureWarning: pandas.util.testing is deprecated. Use the functions in the public API at pandas.testing instead.\n",
            "  import pandas.util.testing as tm\n"
          ],
          "name": "stderr"
        }
      ]
    },
    {
      "cell_type": "code",
      "metadata": {
        "id": "-Si59IhX4tos",
        "colab_type": "code",
        "colab": {
          "base_uri": "https://localhost:8080/",
          "height": 204
        },
        "outputId": "5a31a68b-6f4d-44f1-e41d-154c4e531425"
      },
      "source": [
        "#insitution information \n",
        "df = pd.read_csv('/content/drive/My Drive/Summer-Research/data/data-w8lLG.csv')\n",
        "df.head()"
      ],
      "execution_count": 2,
      "outputs": [
        {
          "output_type": "execute_result",
          "data": {
            "text/html": [
              "<div>\n",
              "<style scoped>\n",
              "    .dataframe tbody tr th:only-of-type {\n",
              "        vertical-align: middle;\n",
              "    }\n",
              "\n",
              "    .dataframe tbody tr th {\n",
              "        vertical-align: top;\n",
              "    }\n",
              "\n",
              "    .dataframe thead th {\n",
              "        text-align: right;\n",
              "    }\n",
              "</style>\n",
              "<table border=\"1\" class=\"dataframe\">\n",
              "  <thead>\n",
              "    <tr style=\"text-align: right;\">\n",
              "      <th></th>\n",
              "      <th>Institution</th>\n",
              "      <th>Control</th>\n",
              "      <th>State</th>\n",
              "      <th>Category</th>\n",
              "    </tr>\n",
              "  </thead>\n",
              "  <tbody>\n",
              "    <tr>\n",
              "      <th>0</th>\n",
              "      <td>Abilene Christian University</td>\n",
              "      <td>Private</td>\n",
              "      <td>TX</td>\n",
              "      <td>&lt;a href=\"https://www.acu.edu/coronavirus/april...</td>\n",
              "    </tr>\n",
              "    <tr>\n",
              "      <th>1</th>\n",
              "      <td>Adelphi University</td>\n",
              "      <td>Private</td>\n",
              "      <td>NY</td>\n",
              "      <td>&lt;a href=\"https://health.adelphi.edu/au_news/co...</td>\n",
              "    </tr>\n",
              "    <tr>\n",
              "      <th>2</th>\n",
              "      <td>Adrian College</td>\n",
              "      <td>Private</td>\n",
              "      <td>MI</td>\n",
              "      <td>&lt;a href=\"http://adrian.edu/news/ac-president-d...</td>\n",
              "    </tr>\n",
              "    <tr>\n",
              "      <th>3</th>\n",
              "      <td>Agnes Scott College</td>\n",
              "      <td>Private</td>\n",
              "      <td>GA</td>\n",
              "      <td>&lt;a href=\"https://www.agnesscott.edu/coronaviru...</td>\n",
              "    </tr>\n",
              "    <tr>\n",
              "      <th>4</th>\n",
              "      <td>Albany College of Pharmacy and Health Sciences</td>\n",
              "      <td>Private</td>\n",
              "      <td>NY</td>\n",
              "      <td>&lt;a href=\"https://www.acphs.edu/sites/default/f...</td>\n",
              "    </tr>\n",
              "  </tbody>\n",
              "</table>\n",
              "</div>"
            ],
            "text/plain": [
              "                                      Institution  ...                                           Category\n",
              "0                    Abilene Christian University  ...  <a href=\"https://www.acu.edu/coronavirus/april...\n",
              "1                              Adelphi University  ...  <a href=\"https://health.adelphi.edu/au_news/co...\n",
              "2                                  Adrian College  ...  <a href=\"http://adrian.edu/news/ac-president-d...\n",
              "3                             Agnes Scott College  ...  <a href=\"https://www.agnesscott.edu/coronaviru...\n",
              "4  Albany College of Pharmacy and Health Sciences  ...  <a href=\"https://www.acphs.edu/sites/default/f...\n",
              "\n",
              "[5 rows x 4 columns]"
            ]
          },
          "metadata": {
            "tags": []
          },
          "execution_count": 2
        }
      ]
    },
    {
      "cell_type": "code",
      "metadata": {
        "id": "Ohll4fnf5DkY",
        "colab_type": "code",
        "colab": {
          "base_uri": "https://localhost:8080/",
          "height": 204
        },
        "outputId": "c259af58-f574-474b-d891-def0a006cf19"
      },
      "source": [
        "# dataset inspect\n",
        "df.info()"
      ],
      "execution_count": 3,
      "outputs": [
        {
          "output_type": "stream",
          "text": [
            "<class 'pandas.core.frame.DataFrame'>\n",
            "RangeIndex: 874 entries, 0 to 873\n",
            "Data columns (total 4 columns):\n",
            " #   Column       Non-Null Count  Dtype \n",
            "---  ------       --------------  ----- \n",
            " 0   Institution  873 non-null    object\n",
            " 1   Control      870 non-null    object\n",
            " 2   State        870 non-null    object\n",
            " 3   Category     870 non-null    object\n",
            "dtypes: object(4)\n",
            "memory usage: 27.4+ KB\n"
          ],
          "name": "stdout"
        }
      ]
    },
    {
      "cell_type": "code",
      "metadata": {
        "id": "iOG50xF05GSs",
        "colab_type": "code",
        "colab": {
          "base_uri": "https://localhost:8080/",
          "height": 173
        },
        "outputId": "8433578e-8acb-493d-c9bb-f8e451d5026a"
      },
      "source": [
        "# inspect the rows with missing \n",
        "df[df.isnull().T.any()]"
      ],
      "execution_count": 4,
      "outputs": [
        {
          "output_type": "execute_result",
          "data": {
            "text/html": [
              "<div>\n",
              "<style scoped>\n",
              "    .dataframe tbody tr th:only-of-type {\n",
              "        vertical-align: middle;\n",
              "    }\n",
              "\n",
              "    .dataframe tbody tr th {\n",
              "        vertical-align: top;\n",
              "    }\n",
              "\n",
              "    .dataframe thead th {\n",
              "        text-align: right;\n",
              "    }\n",
              "</style>\n",
              "<table border=\"1\" class=\"dataframe\">\n",
              "  <thead>\n",
              "    <tr style=\"text-align: right;\">\n",
              "      <th></th>\n",
              "      <th>Institution</th>\n",
              "      <th>Control</th>\n",
              "      <th>State</th>\n",
              "      <th>Category</th>\n",
              "    </tr>\n",
              "  </thead>\n",
              "  <tbody>\n",
              "    <tr>\n",
              "      <th>323</th>\n",
              "      <td>0to%20LACCD%20Community.pdf\" target=\"_blank\" r...</td>\n",
              "      <td>NaN</td>\n",
              "      <td>NaN</td>\n",
              "      <td>NaN</td>\n",
              "    </tr>\n",
              "    <tr>\n",
              "      <th>390</th>\n",
              "      <td>target=_blank\" rel=\"nofollow noopener norefer...</td>\n",
              "      <td>NaN</td>\n",
              "      <td>NaN</td>\n",
              "      <td>NaN</td>\n",
              "    </tr>\n",
              "    <tr>\n",
              "      <th>398</th>\n",
              "      <td>campus-college-experience-in-fall-2020\" target...</td>\n",
              "      <td>NaN</td>\n",
              "      <td>NaN</td>\n",
              "      <td>NaN</td>\n",
              "    </tr>\n",
              "    <tr>\n",
              "      <th>615</th>\n",
              "      <td>NaN</td>\n",
              "      <td>NaN</td>\n",
              "      <td>NaN</td>\n",
              "      <td>NaN</td>\n",
              "    </tr>\n",
              "  </tbody>\n",
              "</table>\n",
              "</div>"
            ],
            "text/plain": [
              "                                           Institution Control State Category\n",
              "323  0to%20LACCD%20Community.pdf\" target=\"_blank\" r...     NaN   NaN      NaN\n",
              "390   target=_blank\" rel=\"nofollow noopener norefer...     NaN   NaN      NaN\n",
              "398  campus-college-experience-in-fall-2020\" target...     NaN   NaN      NaN\n",
              "615                                                NaN     NaN   NaN      NaN"
            ]
          },
          "metadata": {
            "tags": []
          },
          "execution_count": 4
        }
      ]
    },
    {
      "cell_type": "code",
      "metadata": {
        "id": "p7977Q6T6cul",
        "colab_type": "code",
        "colab": {
          "base_uri": "https://localhost:8080/",
          "height": 204
        },
        "outputId": "8fa6e1f7-2b39-4f39-99d6-375c60c9194d"
      },
      "source": [
        "# drop the rows with missing since it doesn't have any specific meaning \n",
        "df.dropna(how='any',inplace = True)\n",
        "df.info()"
      ],
      "execution_count": 5,
      "outputs": [
        {
          "output_type": "stream",
          "text": [
            "<class 'pandas.core.frame.DataFrame'>\n",
            "Int64Index: 870 entries, 0 to 873\n",
            "Data columns (total 4 columns):\n",
            " #   Column       Non-Null Count  Dtype \n",
            "---  ------       --------------  ----- \n",
            " 0   Institution  870 non-null    object\n",
            " 1   Control      870 non-null    object\n",
            " 2   State        870 non-null    object\n",
            " 3   Category     870 non-null    object\n",
            "dtypes: object(4)\n",
            "memory usage: 34.0+ KB\n"
          ],
          "name": "stdout"
        }
      ]
    },
    {
      "cell_type": "code",
      "metadata": {
        "id": "IO_nat9d-Bse",
        "colab_type": "code",
        "colab": {
          "base_uri": "https://localhost:8080/",
          "height": 204
        },
        "outputId": "d9fed6fc-ed5a-4aa6-8dd1-67d76f93d800"
      },
      "source": [
        "# drop rows equals to # ref \n",
        "df = df[df.Institution != '#REF!']\n",
        "df.info()"
      ],
      "execution_count": 6,
      "outputs": [
        {
          "output_type": "stream",
          "text": [
            "<class 'pandas.core.frame.DataFrame'>\n",
            "Int64Index: 855 entries, 0 to 873\n",
            "Data columns (total 4 columns):\n",
            " #   Column       Non-Null Count  Dtype \n",
            "---  ------       --------------  ----- \n",
            " 0   Institution  855 non-null    object\n",
            " 1   Control      855 non-null    object\n",
            " 2   State        855 non-null    object\n",
            " 3   Category     855 non-null    object\n",
            "dtypes: object(4)\n",
            "memory usage: 33.4+ KB\n"
          ],
          "name": "stdout"
        }
      ]
    },
    {
      "cell_type": "code",
      "metadata": {
        "id": "1-NMTCdM_G-B",
        "colab_type": "code",
        "colab": {
          "base_uri": "https://localhost:8080/",
          "height": 173
        },
        "outputId": "d153eb75-957f-40ff-db5f-c06e23bd5132"
      },
      "source": [
        "#check institution duplicated \n",
        "df[df.Institution.duplicated(False)]"
      ],
      "execution_count": 7,
      "outputs": [
        {
          "output_type": "execute_result",
          "data": {
            "text/html": [
              "<div>\n",
              "<style scoped>\n",
              "    .dataframe tbody tr th:only-of-type {\n",
              "        vertical-align: middle;\n",
              "    }\n",
              "\n",
              "    .dataframe tbody tr th {\n",
              "        vertical-align: top;\n",
              "    }\n",
              "\n",
              "    .dataframe thead th {\n",
              "        text-align: right;\n",
              "    }\n",
              "</style>\n",
              "<table border=\"1\" class=\"dataframe\">\n",
              "  <thead>\n",
              "    <tr style=\"text-align: right;\">\n",
              "      <th></th>\n",
              "      <th>Institution</th>\n",
              "      <th>Control</th>\n",
              "      <th>State</th>\n",
              "      <th>Category</th>\n",
              "    </tr>\n",
              "  </thead>\n",
              "  <tbody>\n",
              "    <tr>\n",
              "      <th>184</th>\n",
              "      <td>Duke University</td>\n",
              "      <td>Private</td>\n",
              "      <td>NC</td>\n",
              "      <td>&lt;a href=\"https://today.duke.edu/2020/04/coordi...</td>\n",
              "    </tr>\n",
              "    <tr>\n",
              "      <th>185</th>\n",
              "      <td>Duke University</td>\n",
              "      <td>Private</td>\n",
              "      <td>NC</td>\n",
              "      <td>&lt;a href=\"https://today.duke.edu/2020/05/presid...</td>\n",
              "    </tr>\n",
              "    <tr>\n",
              "      <th>197</th>\n",
              "      <td>Embry-Riddle Aeronautical University</td>\n",
              "      <td>Private</td>\n",
              "      <td>AZ</td>\n",
              "      <td>&lt;a href=\"https://news.erau.edu/headlines/embry...</td>\n",
              "    </tr>\n",
              "    <tr>\n",
              "      <th>198</th>\n",
              "      <td>Embry-Riddle Aeronautical University</td>\n",
              "      <td>Private</td>\n",
              "      <td>FL</td>\n",
              "      <td>&lt;a href=\"https://news.erau.edu/headlines/embry...</td>\n",
              "    </tr>\n",
              "  </tbody>\n",
              "</table>\n",
              "</div>"
            ],
            "text/plain": [
              "                              Institution  ...                                           Category\n",
              "184                       Duke University  ...  <a href=\"https://today.duke.edu/2020/04/coordi...\n",
              "185                       Duke University  ...  <a href=\"https://today.duke.edu/2020/05/presid...\n",
              "197  Embry-Riddle Aeronautical University  ...  <a href=\"https://news.erau.edu/headlines/embry...\n",
              "198  Embry-Riddle Aeronautical University  ...  <a href=\"https://news.erau.edu/headlines/embry...\n",
              "\n",
              "[4 rows x 4 columns]"
            ]
          },
          "metadata": {
            "tags": []
          },
          "execution_count": 7
        }
      ]
    },
    {
      "cell_type": "code",
      "metadata": {
        "id": "e0os3AjV_i4n",
        "colab_type": "code",
        "colab": {}
      },
      "source": [
        "# seems two rows in duke\n",
        "# so we may only keep one instituon \n",
        "df.drop(axis=0,index = 185,inplace = True)"
      ],
      "execution_count": 0,
      "outputs": []
    },
    {
      "cell_type": "code",
      "metadata": {
        "id": "0dfXm4wt_7sX",
        "colab_type": "code",
        "colab": {
          "base_uri": "https://localhost:8080/",
          "height": 731
        },
        "outputId": "ca4c286d-a8b4-4ad2-e6d4-5abe04e9e351"
      },
      "source": [
        "# check duplicate in category \n",
        "check_website_duplicate = df[(df.Category!='Planning for online') & (df.Category!='Planning for in-person')& (df.Category!='Proposing a hybrid model')]\n",
        "check_website_duplicate[check_website_duplicate.Category.duplicated(False)].sort_values('Category')"
      ],
      "execution_count": 9,
      "outputs": [
        {
          "output_type": "execute_result",
          "data": {
            "text/html": [
              "<div>\n",
              "<style scoped>\n",
              "    .dataframe tbody tr th:only-of-type {\n",
              "        vertical-align: middle;\n",
              "    }\n",
              "\n",
              "    .dataframe tbody tr th {\n",
              "        vertical-align: top;\n",
              "    }\n",
              "\n",
              "    .dataframe thead th {\n",
              "        text-align: right;\n",
              "    }\n",
              "</style>\n",
              "<table border=\"1\" class=\"dataframe\">\n",
              "  <thead>\n",
              "    <tr style=\"text-align: right;\">\n",
              "      <th></th>\n",
              "      <th>Institution</th>\n",
              "      <th>Control</th>\n",
              "      <th>State</th>\n",
              "      <th>Category</th>\n",
              "    </tr>\n",
              "  </thead>\n",
              "  <tbody>\n",
              "    <tr>\n",
              "      <th>45</th>\n",
              "      <td>Berkeley City College</td>\n",
              "      <td>Public</td>\n",
              "      <td>CA</td>\n",
              "      <td>&lt;a href=\"https://alameda.peralta.edu/announcem...</td>\n",
              "    </tr>\n",
              "    <tr>\n",
              "      <th>128</th>\n",
              "      <td>College of Alameda</td>\n",
              "      <td>Public</td>\n",
              "      <td>CA</td>\n",
              "      <td>&lt;a href=\"https://alameda.peralta.edu/announcem...</td>\n",
              "    </tr>\n",
              "    <tr>\n",
              "      <th>354</th>\n",
              "      <td>Merritt College</td>\n",
              "      <td>Public</td>\n",
              "      <td>CA</td>\n",
              "      <td>&lt;a href=\"https://alameda.peralta.edu/announcem...</td>\n",
              "    </tr>\n",
              "    <tr>\n",
              "      <th>693</th>\n",
              "      <td>University of Michigan at Dearborn</td>\n",
              "      <td>Public</td>\n",
              "      <td>MI</td>\n",
              "      <td>&lt;a href=\"https://coronavirus.umich.edu/       ...</td>\n",
              "    </tr>\n",
              "    <tr>\n",
              "      <th>692</th>\n",
              "      <td>University of Michigan at Ann Arbor</td>\n",
              "      <td>Public</td>\n",
              "      <td>MI</td>\n",
              "      <td>&lt;a href=\"https://coronavirus.umich.edu/       ...</td>\n",
              "    </tr>\n",
              "    <tr>\n",
              "      <th>99</th>\n",
              "      <td>Cañada College</td>\n",
              "      <td>Public</td>\n",
              "      <td>CA</td>\n",
              "      <td>&lt;a href=\"https://covid-19.smccd.edu/san-mateo-...</td>\n",
              "    </tr>\n",
              "    <tr>\n",
              "      <th>133</th>\n",
              "      <td>College of San Mateo</td>\n",
              "      <td>Public</td>\n",
              "      <td>CA</td>\n",
              "      <td>&lt;a href=\"https://covid-19.smccd.edu/san-mateo-...</td>\n",
              "    </tr>\n",
              "    <tr>\n",
              "      <th>532</th>\n",
              "      <td>Skyline College</td>\n",
              "      <td>Public</td>\n",
              "      <td>CA</td>\n",
              "      <td>&lt;a href=\"https://covid-19.smccd.edu/san-mateo-...</td>\n",
              "    </tr>\n",
              "    <tr>\n",
              "      <th>197</th>\n",
              "      <td>Embry-Riddle Aeronautical University</td>\n",
              "      <td>Private</td>\n",
              "      <td>AZ</td>\n",
              "      <td>&lt;a href=\"https://news.erau.edu/headlines/embry...</td>\n",
              "    </tr>\n",
              "    <tr>\n",
              "      <th>198</th>\n",
              "      <td>Embry-Riddle Aeronautical University</td>\n",
              "      <td>Private</td>\n",
              "      <td>FL</td>\n",
              "      <td>&lt;a href=\"https://news.erau.edu/headlines/embry...</td>\n",
              "    </tr>\n",
              "    <tr>\n",
              "      <th>25</th>\n",
              "      <td>Avila University</td>\n",
              "      <td>Private</td>\n",
              "      <td>MO</td>\n",
              "      <td>&lt;a href=\"https://officeofthepresident.cmail19....</td>\n",
              "    </tr>\n",
              "    <tr>\n",
              "      <th>26</th>\n",
              "      <td>Azusa Pacific University</td>\n",
              "      <td>Private</td>\n",
              "      <td>CA</td>\n",
              "      <td>&lt;a href=\"https://officeofthepresident.cmail19....</td>\n",
              "    </tr>\n",
              "    <tr>\n",
              "      <th>761</th>\n",
              "      <td>University of Wisconsin at Madison</td>\n",
              "      <td>Public</td>\n",
              "      <td>WI</td>\n",
              "      <td>&lt;a href=\"https://uwm.edu/coronavirus/updates/c...</td>\n",
              "    </tr>\n",
              "    <tr>\n",
              "      <th>762</th>\n",
              "      <td>University of Wisconsin at Milwaukee</td>\n",
              "      <td>Public</td>\n",
              "      <td>WI</td>\n",
              "      <td>&lt;a href=\"https://uwm.edu/coronavirus/updates/c...</td>\n",
              "    </tr>\n",
              "    <tr>\n",
              "      <th>289</th>\n",
              "      <td>Juniata College</td>\n",
              "      <td>Private</td>\n",
              "      <td>PA</td>\n",
              "      <td>&lt;a href=\"https://www.juniata.edu/coronavirus/c...</td>\n",
              "    </tr>\n",
              "    <tr>\n",
              "      <th>310</th>\n",
              "      <td>Lee University</td>\n",
              "      <td>Private</td>\n",
              "      <td>TN</td>\n",
              "      <td>&lt;a href=\"https://www.juniata.edu/coronavirus/c...</td>\n",
              "    </tr>\n",
              "    <tr>\n",
              "      <th>307</th>\n",
              "      <td>Lansing Community College</td>\n",
              "      <td>Public</td>\n",
              "      <td>MI</td>\n",
              "      <td>&lt;a href=\"https://www.mlive.com/news/ann-arbor/...</td>\n",
              "    </tr>\n",
              "    <tr>\n",
              "      <th>239</th>\n",
              "      <td>Grand Rapids Community College</td>\n",
              "      <td>Public</td>\n",
              "      <td>MI</td>\n",
              "      <td>&lt;a href=\"https://www.mlive.com/news/ann-arbor/...</td>\n",
              "    </tr>\n",
              "    <tr>\n",
              "      <th>443</th>\n",
              "      <td>Oakland Community College</td>\n",
              "      <td>Public</td>\n",
              "      <td>MI</td>\n",
              "      <td>&lt;a href=\"https://www.mlive.com/news/ann-arbor/...</td>\n",
              "    </tr>\n",
              "    <tr>\n",
              "      <th>830</th>\n",
              "      <td>Washtenaw Community College</td>\n",
              "      <td>Public</td>\n",
              "      <td>MI</td>\n",
              "      <td>&lt;a href=\"https://www.mlive.com/news/ann-arbor/...</td>\n",
              "    </tr>\n",
              "    <tr>\n",
              "      <th>757</th>\n",
              "      <td>University of Virginia</td>\n",
              "      <td>Public</td>\n",
              "      <td>VA</td>\n",
              "      <td>&lt;a href=\"https://www.virginiabusiness.com/arti...</td>\n",
              "    </tr>\n",
              "    <tr>\n",
              "      <th>231</th>\n",
              "      <td>George Mason University</td>\n",
              "      <td>Public</td>\n",
              "      <td>VA</td>\n",
              "      <td>&lt;a href=\"https://www.virginiabusiness.com/arti...</td>\n",
              "    </tr>\n",
              "  </tbody>\n",
              "</table>\n",
              "</div>"
            ],
            "text/plain": [
              "                              Institution  ...                                           Category\n",
              "45                  Berkeley City College  ...  <a href=\"https://alameda.peralta.edu/announcem...\n",
              "128                    College of Alameda  ...  <a href=\"https://alameda.peralta.edu/announcem...\n",
              "354                       Merritt College  ...  <a href=\"https://alameda.peralta.edu/announcem...\n",
              "693    University of Michigan at Dearborn  ...  <a href=\"https://coronavirus.umich.edu/       ...\n",
              "692   University of Michigan at Ann Arbor  ...  <a href=\"https://coronavirus.umich.edu/       ...\n",
              "99                         Cañada College  ...  <a href=\"https://covid-19.smccd.edu/san-mateo-...\n",
              "133                  College of San Mateo  ...  <a href=\"https://covid-19.smccd.edu/san-mateo-...\n",
              "532                       Skyline College  ...  <a href=\"https://covid-19.smccd.edu/san-mateo-...\n",
              "197  Embry-Riddle Aeronautical University  ...  <a href=\"https://news.erau.edu/headlines/embry...\n",
              "198  Embry-Riddle Aeronautical University  ...  <a href=\"https://news.erau.edu/headlines/embry...\n",
              "25                       Avila University  ...  <a href=\"https://officeofthepresident.cmail19....\n",
              "26               Azusa Pacific University  ...  <a href=\"https://officeofthepresident.cmail19....\n",
              "761    University of Wisconsin at Madison  ...  <a href=\"https://uwm.edu/coronavirus/updates/c...\n",
              "762  University of Wisconsin at Milwaukee  ...  <a href=\"https://uwm.edu/coronavirus/updates/c...\n",
              "289                       Juniata College  ...  <a href=\"https://www.juniata.edu/coronavirus/c...\n",
              "310                        Lee University  ...  <a href=\"https://www.juniata.edu/coronavirus/c...\n",
              "307             Lansing Community College  ...  <a href=\"https://www.mlive.com/news/ann-arbor/...\n",
              "239        Grand Rapids Community College  ...  <a href=\"https://www.mlive.com/news/ann-arbor/...\n",
              "443             Oakland Community College  ...  <a href=\"https://www.mlive.com/news/ann-arbor/...\n",
              "830           Washtenaw Community College  ...  <a href=\"https://www.mlive.com/news/ann-arbor/...\n",
              "757                University of Virginia  ...  <a href=\"https://www.virginiabusiness.com/arti...\n",
              "231               George Mason University  ...  <a href=\"https://www.virginiabusiness.com/arti...\n",
              "\n",
              "[22 rows x 4 columns]"
            ]
          },
          "metadata": {
            "tags": []
          },
          "execution_count": 9
        }
      ]
    },
    {
      "cell_type": "code",
      "metadata": {
        "id": "yMEPx6oTCuwP",
        "colab_type": "code",
        "colab": {}
      },
      "source": [
        "# avila university \n",
        "df.iloc[25,3]='https://www.avila.edu/healthy-eagles/'"
      ],
      "execution_count": 0,
      "outputs": []
    },
    {
      "cell_type": "code",
      "metadata": {
        "id": "XHTmPrEcEk9v",
        "colab_type": "code",
        "colab": {}
      },
      "source": [
        "#juniata college \n",
        "df.iloc[289,3] = 'https://www.juniata.edu/coronavirus/'"
      ],
      "execution_count": 0,
      "outputs": []
    },
    {
      "cell_type": "code",
      "metadata": {
        "id": "wMTyAhQJE1uk",
        "colab_type": "code",
        "colab": {}
      },
      "source": [
        "# Lee University\n",
        "df.iloc[310,3] = 'http://www.lee.edu/coronavirus/'"
      ],
      "execution_count": 0,
      "outputs": []
    },
    {
      "cell_type": "markdown",
      "metadata": {
        "id": "vfBi9HJ9Fpbr",
        "colab_type": "text"
      },
      "source": [
        "- Reason for **Berkeley City College, College of Alameda and Merritt College** under same hyperlink to the alameda health may because they follow the follow the guidelines and best practices for institutions of higher education as recommended by the Alameda County Public Health Department\n",
        "\n",
        "- Same reason for \n",
        "  - Cañada College, Skyline College and College of San Mateo\n",
        "  - Lansing Community College,Grand Rapids Community College, \n",
        "  - Oakland Community College, Washtenaw Community College; \n",
        "  - University of Virginia,George Mason University\n",
        "\n",
        "- Reason for **University of Michigan at Dearborn and University of Michigan at Ann Arbor** share the same link is that they are under same school, just different campus\n",
        "\n",
        "- Same Reason for \n",
        "  - Embry-Riddle Aeronautical University in AZ and FL; \n",
        "  - University of Wisconsin at Madison and University of Wisconsin at Milwaukee\n",
        "\n",
        "\n"
      ]
    }
  ]
}