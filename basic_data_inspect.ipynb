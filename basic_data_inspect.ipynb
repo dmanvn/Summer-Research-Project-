{
  "nbformat": 4,
  "nbformat_minor": 0,
  "metadata": {
    "colab": {
      "name": "basic-data-inspect.ipynb",
      "provenance": [],
      "collapsed_sections": [],
      "mount_file_id": "10t1i_L6ZXYaP3usQoCKKb-XImpJWgXW_",
      "authorship_tag": "ABX9TyMH4Fn9xbprPLiSTHze4Zwm",
      "include_colab_link": true
    },
    "kernelspec": {
      "name": "python3",
      "display_name": "Python 3"
    }
  },
  "cells": [
    {
      "cell_type": "markdown",
      "metadata": {
        "id": "view-in-github",
        "colab_type": "text"
      },
      "source": [
        "<a href=\"https://colab.research.google.com/github/yuxuan0702/Summer-Research-Project-/blob/master/basic_data_inspect.ipynb\" target=\"_parent\"><img src=\"https://colab.research.google.com/assets/colab-badge.svg\" alt=\"Open In Colab\"/></a>"
      ]
    },
    {
      "cell_type": "code",
      "metadata": {
        "id": "_sSROEWX4DNx",
        "colab_type": "code",
        "colab": {}
      },
      "source": [
        "#import packages \n",
        "import numpy as np\n",
        "import pandas as pd\n",
        "import matplotlib.pyplot as plt \n",
        "import seaborn as sns\n",
        "import difflib\n",
        "import plotly.express as px\n",
        "\n",
        "pd.options.display.max_rows = 999\n",
        "plt.style.use('fivethirtyeight')\n",
        "%matplotlib inline"
      ],
      "execution_count": 0,
      "outputs": []
    },
    {
      "cell_type": "code",
      "metadata": {
        "id": "-Si59IhX4tos",
        "colab_type": "code",
        "outputId": "2988b855-9ffa-411d-d1c4-3bb5d8f7f95f",
        "colab": {
          "base_uri": "https://localhost:8080/",
          "height": 289
        }
      },
      "source": [
        "#insitution information \n",
        "df = pd.read_csv('/content/drive/My Drive/Summer-Research/data/CHE.csv')\n",
        "df.head()"
      ],
      "execution_count": 0,
      "outputs": [
        {
          "output_type": "execute_result",
          "data": {
            "text/html": [
              "<div>\n",
              "<style scoped>\n",
              "    .dataframe tbody tr th:only-of-type {\n",
              "        vertical-align: middle;\n",
              "    }\n",
              "\n",
              "    .dataframe tbody tr th {\n",
              "        vertical-align: top;\n",
              "    }\n",
              "\n",
              "    .dataframe thead th {\n",
              "        text-align: right;\n",
              "    }\n",
              "</style>\n",
              "<table border=\"1\" class=\"dataframe\">\n",
              "  <thead>\n",
              "    <tr style=\"text-align: right;\">\n",
              "      <th></th>\n",
              "      <th>Institution</th>\n",
              "      <th>Control</th>\n",
              "      <th>State</th>\n",
              "      <th>Category</th>\n",
              "    </tr>\n",
              "  </thead>\n",
              "  <tbody>\n",
              "    <tr>\n",
              "      <th>0</th>\n",
              "      <td>Abilene Christian University</td>\n",
              "      <td>Private</td>\n",
              "      <td>TX</td>\n",
              "      <td>&lt;a href=\"https://www.acu.edu/coronavirus/april...</td>\n",
              "    </tr>\n",
              "    <tr>\n",
              "      <th>1</th>\n",
              "      <td>Adelphi University</td>\n",
              "      <td>Private</td>\n",
              "      <td>NY</td>\n",
              "      <td>&lt;a href=\"https://health.adelphi.edu/au_news/co...</td>\n",
              "    </tr>\n",
              "    <tr>\n",
              "      <th>2</th>\n",
              "      <td>Adrian College</td>\n",
              "      <td>Private</td>\n",
              "      <td>MI</td>\n",
              "      <td>&lt;a href=\"http://adrian.edu/news/ac-president-d...</td>\n",
              "    </tr>\n",
              "    <tr>\n",
              "      <th>3</th>\n",
              "      <td>Agnes Scott College</td>\n",
              "      <td>Private</td>\n",
              "      <td>GA</td>\n",
              "      <td>&lt;a href=\"https://www.agnesscott.edu/coronaviru...</td>\n",
              "    </tr>\n",
              "    <tr>\n",
              "      <th>4</th>\n",
              "      <td>Albany College of Pharmacy and Health Sciences</td>\n",
              "      <td>Private</td>\n",
              "      <td>NY</td>\n",
              "      <td>&lt;a href=\"https://www.acphs.edu/sites/default/f...</td>\n",
              "    </tr>\n",
              "  </tbody>\n",
              "</table>\n",
              "</div>"
            ],
            "text/plain": [
              "                                      Institution  ...                                           Category\n",
              "0                    Abilene Christian University  ...  <a href=\"https://www.acu.edu/coronavirus/april...\n",
              "1                              Adelphi University  ...  <a href=\"https://health.adelphi.edu/au_news/co...\n",
              "2                                  Adrian College  ...  <a href=\"http://adrian.edu/news/ac-president-d...\n",
              "3                             Agnes Scott College  ...  <a href=\"https://www.agnesscott.edu/coronaviru...\n",
              "4  Albany College of Pharmacy and Health Sciences  ...  <a href=\"https://www.acphs.edu/sites/default/f...\n",
              "\n",
              "[5 rows x 4 columns]"
            ]
          },
          "metadata": {
            "tags": []
          },
          "execution_count": 61
        }
      ]
    },
    {
      "cell_type": "code",
      "metadata": {
        "id": "Ohll4fnf5DkY",
        "colab_type": "code",
        "outputId": "4b0ead2a-2d3a-45d0-c3bc-be0fd7dfd8b9",
        "colab": {
          "base_uri": "https://localhost:8080/",
          "height": 204
        }
      },
      "source": [
        "# dataset inspect\n",
        "df.info()"
      ],
      "execution_count": 0,
      "outputs": [
        {
          "output_type": "stream",
          "text": [
            "<class 'pandas.core.frame.DataFrame'>\n",
            "RangeIndex: 882 entries, 0 to 881\n",
            "Data columns (total 4 columns):\n",
            " #   Column       Non-Null Count  Dtype \n",
            "---  ------       --------------  ----- \n",
            " 0   Institution  882 non-null    object\n",
            " 1   Control      879 non-null    object\n",
            " 2   State        879 non-null    object\n",
            " 3   Category     879 non-null    object\n",
            "dtypes: object(4)\n",
            "memory usage: 27.7+ KB\n"
          ],
          "name": "stdout"
        }
      ]
    },
    {
      "cell_type": "code",
      "metadata": {
        "id": "-sotgCbrYyst",
        "colab_type": "code",
        "outputId": "4a7eb01b-5817-4a37-cdb1-84e900432189",
        "colab": {
          "base_uri": "https://localhost:8080/",
          "height": 142
        }
      },
      "source": [
        "# inspect the rows with missing \n",
        "df[df.isnull().T.any()]"
      ],
      "execution_count": 0,
      "outputs": [
        {
          "output_type": "execute_result",
          "data": {
            "text/html": [
              "<div>\n",
              "<style scoped>\n",
              "    .dataframe tbody tr th:only-of-type {\n",
              "        vertical-align: middle;\n",
              "    }\n",
              "\n",
              "    .dataframe tbody tr th {\n",
              "        vertical-align: top;\n",
              "    }\n",
              "\n",
              "    .dataframe thead th {\n",
              "        text-align: right;\n",
              "    }\n",
              "</style>\n",
              "<table border=\"1\" class=\"dataframe\">\n",
              "  <thead>\n",
              "    <tr style=\"text-align: right;\">\n",
              "      <th></th>\n",
              "      <th>Institution</th>\n",
              "      <th>Control</th>\n",
              "      <th>State</th>\n",
              "      <th>Category</th>\n",
              "    </tr>\n",
              "  </thead>\n",
              "  <tbody>\n",
              "    <tr>\n",
              "      <th>333</th>\n",
              "      <td>0to%20LACCD%20Community.pdf\" target=\"_blank\" r...</td>\n",
              "      <td>NaN</td>\n",
              "      <td>NaN</td>\n",
              "      <td>NaN</td>\n",
              "    </tr>\n",
              "    <tr>\n",
              "      <th>401</th>\n",
              "      <td>target=_blank\" rel=\"nofollow noopener norefer...</td>\n",
              "      <td>NaN</td>\n",
              "      <td>NaN</td>\n",
              "      <td>NaN</td>\n",
              "    </tr>\n",
              "    <tr>\n",
              "      <th>409</th>\n",
              "      <td>campus-college-experience-in-fall-2020\" target...</td>\n",
              "      <td>NaN</td>\n",
              "      <td>NaN</td>\n",
              "      <td>NaN</td>\n",
              "    </tr>\n",
              "  </tbody>\n",
              "</table>\n",
              "</div>"
            ],
            "text/plain": [
              "                                           Institution Control State Category\n",
              "333  0to%20LACCD%20Community.pdf\" target=\"_blank\" r...     NaN   NaN      NaN\n",
              "401   target=_blank\" rel=\"nofollow noopener norefer...     NaN   NaN      NaN\n",
              "409  campus-college-experience-in-fall-2020\" target...     NaN   NaN      NaN"
            ]
          },
          "metadata": {
            "tags": []
          },
          "execution_count": 63
        }
      ]
    },
    {
      "cell_type": "code",
      "metadata": {
        "id": "RrHJABC4Y3Jv",
        "colab_type": "code",
        "outputId": "9d00483e-507c-47da-934a-5fca768c339d",
        "colab": {
          "base_uri": "https://localhost:8080/",
          "height": 204
        }
      },
      "source": [
        "# drop the rows with missing since it doesn't have any specific meaning \n",
        "df.dropna(how='any',inplace = True)\n",
        "df.info()"
      ],
      "execution_count": 0,
      "outputs": [
        {
          "output_type": "stream",
          "text": [
            "<class 'pandas.core.frame.DataFrame'>\n",
            "Int64Index: 879 entries, 0 to 881\n",
            "Data columns (total 4 columns):\n",
            " #   Column       Non-Null Count  Dtype \n",
            "---  ------       --------------  ----- \n",
            " 0   Institution  879 non-null    object\n",
            " 1   Control      879 non-null    object\n",
            " 2   State        879 non-null    object\n",
            " 3   Category     879 non-null    object\n",
            "dtypes: object(4)\n",
            "memory usage: 34.3+ KB\n"
          ],
          "name": "stdout"
        }
      ]
    },
    {
      "cell_type": "code",
      "metadata": {
        "id": "W7QiK9DyY7vK",
        "colab_type": "code",
        "outputId": "4a72fe4c-cc53-4ab8-d057-f0470316ae0b",
        "colab": {
          "base_uri": "https://localhost:8080/",
          "height": 286
        }
      },
      "source": [
        "#check institution duplicated \n",
        "df[df.Institution.duplicated(False)]"
      ],
      "execution_count": 0,
      "outputs": [
        {
          "output_type": "execute_result",
          "data": {
            "text/html": [
              "<div>\n",
              "<style scoped>\n",
              "    .dataframe tbody tr th:only-of-type {\n",
              "        vertical-align: middle;\n",
              "    }\n",
              "\n",
              "    .dataframe tbody tr th {\n",
              "        vertical-align: top;\n",
              "    }\n",
              "\n",
              "    .dataframe thead th {\n",
              "        text-align: right;\n",
              "    }\n",
              "</style>\n",
              "<table border=\"1\" class=\"dataframe\">\n",
              "  <thead>\n",
              "    <tr style=\"text-align: right;\">\n",
              "      <th></th>\n",
              "      <th>Institution</th>\n",
              "      <th>Control</th>\n",
              "      <th>State</th>\n",
              "      <th>Category</th>\n",
              "    </tr>\n",
              "  </thead>\n",
              "  <tbody>\n",
              "    <tr>\n",
              "      <th>146</th>\n",
              "      <td>Columbia College</td>\n",
              "      <td>Private</td>\n",
              "      <td>SC</td>\n",
              "      <td>&lt;a href=\"https://www.columbiasc.edu/president-...</td>\n",
              "    </tr>\n",
              "    <tr>\n",
              "      <th>147</th>\n",
              "      <td>Columbia College</td>\n",
              "      <td>Private</td>\n",
              "      <td>MO</td>\n",
              "      <td>&lt;a href=\"https://www.columbiamissourian.com/ne...</td>\n",
              "    </tr>\n",
              "    <tr>\n",
              "      <th>192</th>\n",
              "      <td>Duke University</td>\n",
              "      <td>Private</td>\n",
              "      <td>NC</td>\n",
              "      <td>&lt;a href=\"https://today.duke.edu/2020/04/coordi...</td>\n",
              "    </tr>\n",
              "    <tr>\n",
              "      <th>193</th>\n",
              "      <td>Duke University</td>\n",
              "      <td>Private</td>\n",
              "      <td>NC</td>\n",
              "      <td>&lt;a href=\"https://today.duke.edu/2020/05/presid...</td>\n",
              "    </tr>\n",
              "    <tr>\n",
              "      <th>205</th>\n",
              "      <td>Embry-Riddle Aeronautical University</td>\n",
              "      <td>Private</td>\n",
              "      <td>AZ</td>\n",
              "      <td>&lt;a href=\"https://news.erau.edu/headlines/embry...</td>\n",
              "    </tr>\n",
              "    <tr>\n",
              "      <th>206</th>\n",
              "      <td>Embry-Riddle Aeronautical University</td>\n",
              "      <td>Private</td>\n",
              "      <td>FL</td>\n",
              "      <td>&lt;a href=\"https://news.erau.edu/headlines/embry...</td>\n",
              "    </tr>\n",
              "  </tbody>\n",
              "</table>\n",
              "</div>"
            ],
            "text/plain": [
              "                              Institution  ...                                           Category\n",
              "146                      Columbia College  ...  <a href=\"https://www.columbiasc.edu/president-...\n",
              "147                      Columbia College  ...  <a href=\"https://www.columbiamissourian.com/ne...\n",
              "192                       Duke University  ...  <a href=\"https://today.duke.edu/2020/04/coordi...\n",
              "193                       Duke University  ...  <a href=\"https://today.duke.edu/2020/05/presid...\n",
              "205  Embry-Riddle Aeronautical University  ...  <a href=\"https://news.erau.edu/headlines/embry...\n",
              "206  Embry-Riddle Aeronautical University  ...  <a href=\"https://news.erau.edu/headlines/embry...\n",
              "\n",
              "[6 rows x 4 columns]"
            ]
          },
          "metadata": {
            "tags": []
          },
          "execution_count": 65
        }
      ]
    },
    {
      "cell_type": "code",
      "metadata": {
        "id": "CELOQNdvZCU5",
        "colab_type": "code",
        "colab": {}
      },
      "source": [
        "# seems two rows in duke\n",
        "# so we may only keep one instituon \n",
        "df.drop(axis=0,index = 192,inplace = True)"
      ],
      "execution_count": 0,
      "outputs": []
    },
    {
      "cell_type": "code",
      "metadata": {
        "id": "6rM8lsbZc18T",
        "colab_type": "code",
        "outputId": "d578c304-087b-41b9-f356-d29de4a1fb76",
        "colab": {
          "base_uri": "https://localhost:8080/",
          "height": 343
        }
      },
      "source": [
        "# keep category \n",
        "have_decided = df[(df.Category=='Planning for online') | (df.Category=='Planning for in-person')| (df.Category=='Proposing a hybrid model')]\n",
        "have_decided.rename(columns={'Category':'plan'},inplace = True)\n",
        "have_decided.head()"
      ],
      "execution_count": 0,
      "outputs": [
        {
          "output_type": "stream",
          "text": [
            "/usr/local/lib/python3.6/dist-packages/pandas/core/frame.py:4133: SettingWithCopyWarning:\n",
            "\n",
            "\n",
            "A value is trying to be set on a copy of a slice from a DataFrame\n",
            "\n",
            "See the caveats in the documentation: https://pandas.pydata.org/pandas-docs/stable/user_guide/indexing.html#returning-a-view-versus-a-copy\n",
            "\n"
          ],
          "name": "stderr"
        },
        {
          "output_type": "execute_result",
          "data": {
            "text/html": [
              "<div>\n",
              "<style scoped>\n",
              "    .dataframe tbody tr th:only-of-type {\n",
              "        vertical-align: middle;\n",
              "    }\n",
              "\n",
              "    .dataframe tbody tr th {\n",
              "        vertical-align: top;\n",
              "    }\n",
              "\n",
              "    .dataframe thead th {\n",
              "        text-align: right;\n",
              "    }\n",
              "</style>\n",
              "<table border=\"1\" class=\"dataframe\">\n",
              "  <thead>\n",
              "    <tr style=\"text-align: right;\">\n",
              "      <th></th>\n",
              "      <th>Institution</th>\n",
              "      <th>Control</th>\n",
              "      <th>State</th>\n",
              "      <th>plan</th>\n",
              "    </tr>\n",
              "  </thead>\n",
              "  <tbody>\n",
              "    <tr>\n",
              "      <th>74</th>\n",
              "      <td>California State University — Bakersfield</td>\n",
              "      <td>Public</td>\n",
              "      <td>CA</td>\n",
              "      <td>Planning for online</td>\n",
              "    </tr>\n",
              "    <tr>\n",
              "      <th>75</th>\n",
              "      <td>California State University — Channel Islands</td>\n",
              "      <td>Public</td>\n",
              "      <td>CA</td>\n",
              "      <td>Planning for online</td>\n",
              "    </tr>\n",
              "    <tr>\n",
              "      <th>76</th>\n",
              "      <td>California State University — Chico</td>\n",
              "      <td>Public</td>\n",
              "      <td>CA</td>\n",
              "      <td>Planning for online</td>\n",
              "    </tr>\n",
              "    <tr>\n",
              "      <th>77</th>\n",
              "      <td>California State University — Dominguez Hills</td>\n",
              "      <td>Public</td>\n",
              "      <td>CA</td>\n",
              "      <td>Planning for online</td>\n",
              "    </tr>\n",
              "    <tr>\n",
              "      <th>78</th>\n",
              "      <td>California State University — East Bay</td>\n",
              "      <td>Public</td>\n",
              "      <td>CA</td>\n",
              "      <td>Planning for online</td>\n",
              "    </tr>\n",
              "  </tbody>\n",
              "</table>\n",
              "</div>"
            ],
            "text/plain": [
              "                                      Institution  ...                 plan\n",
              "74      California State University — Bakersfield  ...  Planning for online\n",
              "75  California State University — Channel Islands  ...  Planning for online\n",
              "76            California State University — Chico  ...  Planning for online\n",
              "77  California State University — Dominguez Hills  ...  Planning for online\n",
              "78         California State University — East Bay  ...  Planning for online\n",
              "\n",
              "[5 rows x 4 columns]"
            ]
          },
          "metadata": {
            "tags": []
          },
          "execution_count": 77
        }
      ]
    },
    {
      "cell_type": "code",
      "metadata": {
        "id": "IQXU-_becCby",
        "colab_type": "code",
        "outputId": "3392dbef-5253-40c3-97ea-dfd90a187e22",
        "colab": {
          "base_uri": "https://localhost:8080/",
          "height": 683
        }
      },
      "source": [
        "#change category into plan \n",
        "hyperlink_decided = df[(df.Category!='Planning for online') & (df.Category!='Planning for in-person')& (df.Category!='Proposing a hybrid model')]\n",
        "hyperlink_decided\n",
        "hyperlink_decided['category'],hyperlink_decided['plan'] = hyperlink_decided['Category'].str.split('>',1).str\n",
        "hyperlink_decided['plan'] = hyperlink_decided['plan'].str.replace('</a>','')\n",
        "hyperlink_decided.drop(columns = ['Category','category'],inplace = True)\n",
        "hyperlink_decided.head()"
      ],
      "execution_count": 0,
      "outputs": [
        {
          "output_type": "stream",
          "text": [
            "/usr/local/lib/python3.6/dist-packages/ipykernel_launcher.py:4: FutureWarning:\n",
            "\n",
            "Columnar iteration over characters will be deprecated in future releases.\n",
            "\n",
            "/usr/local/lib/python3.6/dist-packages/ipykernel_launcher.py:4: SettingWithCopyWarning:\n",
            "\n",
            "\n",
            "A value is trying to be set on a copy of a slice from a DataFrame.\n",
            "Try using .loc[row_indexer,col_indexer] = value instead\n",
            "\n",
            "See the caveats in the documentation: https://pandas.pydata.org/pandas-docs/stable/user_guide/indexing.html#returning-a-view-versus-a-copy\n",
            "\n",
            "/usr/local/lib/python3.6/dist-packages/ipykernel_launcher.py:5: SettingWithCopyWarning:\n",
            "\n",
            "\n",
            "A value is trying to be set on a copy of a slice from a DataFrame.\n",
            "Try using .loc[row_indexer,col_indexer] = value instead\n",
            "\n",
            "See the caveats in the documentation: https://pandas.pydata.org/pandas-docs/stable/user_guide/indexing.html#returning-a-view-versus-a-copy\n",
            "\n",
            "/usr/local/lib/python3.6/dist-packages/pandas/core/frame.py:3997: SettingWithCopyWarning:\n",
            "\n",
            "\n",
            "A value is trying to be set on a copy of a slice from a DataFrame\n",
            "\n",
            "See the caveats in the documentation: https://pandas.pydata.org/pandas-docs/stable/user_guide/indexing.html#returning-a-view-versus-a-copy\n",
            "\n"
          ],
          "name": "stderr"
        },
        {
          "output_type": "execute_result",
          "data": {
            "text/html": [
              "<div>\n",
              "<style scoped>\n",
              "    .dataframe tbody tr th:only-of-type {\n",
              "        vertical-align: middle;\n",
              "    }\n",
              "\n",
              "    .dataframe tbody tr th {\n",
              "        vertical-align: top;\n",
              "    }\n",
              "\n",
              "    .dataframe thead th {\n",
              "        text-align: right;\n",
              "    }\n",
              "</style>\n",
              "<table border=\"1\" class=\"dataframe\">\n",
              "  <thead>\n",
              "    <tr style=\"text-align: right;\">\n",
              "      <th></th>\n",
              "      <th>Institution</th>\n",
              "      <th>Control</th>\n",
              "      <th>State</th>\n",
              "      <th>plan</th>\n",
              "    </tr>\n",
              "  </thead>\n",
              "  <tbody>\n",
              "    <tr>\n",
              "      <th>0</th>\n",
              "      <td>Abilene Christian University</td>\n",
              "      <td>Private</td>\n",
              "      <td>TX</td>\n",
              "      <td>Planning for in-person</td>\n",
              "    </tr>\n",
              "    <tr>\n",
              "      <th>1</th>\n",
              "      <td>Adelphi University</td>\n",
              "      <td>Private</td>\n",
              "      <td>NY</td>\n",
              "      <td>Proposing a hybrid model</td>\n",
              "    </tr>\n",
              "    <tr>\n",
              "      <th>2</th>\n",
              "      <td>Adrian College</td>\n",
              "      <td>Private</td>\n",
              "      <td>MI</td>\n",
              "      <td>Planning for in-person</td>\n",
              "    </tr>\n",
              "    <tr>\n",
              "      <th>3</th>\n",
              "      <td>Agnes Scott College</td>\n",
              "      <td>Private</td>\n",
              "      <td>GA</td>\n",
              "      <td>Planning for in-person</td>\n",
              "    </tr>\n",
              "    <tr>\n",
              "      <th>4</th>\n",
              "      <td>Albany College of Pharmacy and Health Sciences</td>\n",
              "      <td>Private</td>\n",
              "      <td>NY</td>\n",
              "      <td>Planning for in-person</td>\n",
              "    </tr>\n",
              "  </tbody>\n",
              "</table>\n",
              "</div>"
            ],
            "text/plain": [
              "                                      Institution  ...                      plan\n",
              "0                    Abilene Christian University  ...    Planning for in-person\n",
              "1                              Adelphi University  ...  Proposing a hybrid model\n",
              "2                                  Adrian College  ...    Planning for in-person\n",
              "3                             Agnes Scott College  ...    Planning for in-person\n",
              "4  Albany College of Pharmacy and Health Sciences  ...    Planning for in-person\n",
              "\n",
              "[5 rows x 4 columns]"
            ]
          },
          "metadata": {
            "tags": []
          },
          "execution_count": 75
        }
      ]
    },
    {
      "cell_type": "code",
      "metadata": {
        "id": "RiwRuSmDdfkM",
        "colab_type": "code",
        "outputId": "5338bc5d-33d1-4d3e-d11c-485245bab272",
        "colab": {
          "base_uri": "https://localhost:8080/",
          "height": 34
        }
      },
      "source": [
        "# combine decide and hyperlink \n",
        "df = pd.concat([have_decided,hyperlink_decided])\n",
        "df.shape"
      ],
      "execution_count": 0,
      "outputs": [
        {
          "output_type": "execute_result",
          "data": {
            "text/plain": [
              "(878, 4)"
            ]
          },
          "metadata": {
            "tags": []
          },
          "execution_count": 81
        }
      ]
    },
    {
      "cell_type": "code",
      "metadata": {
        "id": "kC87CTQ0GQkm",
        "colab_type": "code",
        "outputId": "7c51f998-4e68-410c-8dc9-3298860884c1",
        "colab": {
          "base_uri": "https://localhost:8080/",
          "height": 142
        }
      },
      "source": [
        "# import university dataset \n",
        "university = pd.read_csv('/content/drive/My Drive/Summer-Research/data/Colleges_and_Universities.csv',usecols=['NAME','STATE','LATITUDE','LONGITUDE'])\n",
        "university.head(3)"
      ],
      "execution_count": 0,
      "outputs": [
        {
          "output_type": "execute_result",
          "data": {
            "text/html": [
              "<div>\n",
              "<style scoped>\n",
              "    .dataframe tbody tr th:only-of-type {\n",
              "        vertical-align: middle;\n",
              "    }\n",
              "\n",
              "    .dataframe tbody tr th {\n",
              "        vertical-align: top;\n",
              "    }\n",
              "\n",
              "    .dataframe thead th {\n",
              "        text-align: right;\n",
              "    }\n",
              "</style>\n",
              "<table border=\"1\" class=\"dataframe\">\n",
              "  <thead>\n",
              "    <tr style=\"text-align: right;\">\n",
              "      <th></th>\n",
              "      <th>NAME</th>\n",
              "      <th>STATE</th>\n",
              "      <th>LATITUDE</th>\n",
              "      <th>LONGITUDE</th>\n",
              "    </tr>\n",
              "  </thead>\n",
              "  <tbody>\n",
              "    <tr>\n",
              "      <th>0</th>\n",
              "      <td>Shorter College</td>\n",
              "      <td>AR</td>\n",
              "      <td>34.759308</td>\n",
              "      <td>-92.260490</td>\n",
              "    </tr>\n",
              "    <tr>\n",
              "      <th>1</th>\n",
              "      <td>Citrus Heights Beauty College</td>\n",
              "      <td>CA</td>\n",
              "      <td>38.713353</td>\n",
              "      <td>-121.289431</td>\n",
              "    </tr>\n",
              "    <tr>\n",
              "      <th>2</th>\n",
              "      <td>Joe Blasco Makeup Artist Training Center</td>\n",
              "      <td>CA</td>\n",
              "      <td>34.101481</td>\n",
              "      <td>-118.287070</td>\n",
              "    </tr>\n",
              "  </tbody>\n",
              "</table>\n",
              "</div>"
            ],
            "text/plain": [
              "                                       NAME STATE   LATITUDE   LONGITUDE\n",
              "0                           Shorter College    AR  34.759308  -92.260490\n",
              "1             Citrus Heights Beauty College    CA  38.713353 -121.289431\n",
              "2  Joe Blasco Makeup Artist Training Center    CA  34.101481 -118.287070"
            ]
          },
          "metadata": {
            "tags": []
          },
          "execution_count": 4
        }
      ]
    },
    {
      "cell_type": "code",
      "metadata": {
        "id": "DM1HKkNdHpFG",
        "colab_type": "code",
        "outputId": "ceabfee1-f7e7-46ae-cdd7-668c7ababb83",
        "colab": {
          "base_uri": "https://localhost:8080/",
          "height": 204
        }
      },
      "source": [
        "# inspect university data \n",
        "university.info()"
      ],
      "execution_count": 0,
      "outputs": [
        {
          "output_type": "stream",
          "text": [
            "<class 'pandas.core.frame.DataFrame'>\n",
            "RangeIndex: 7735 entries, 0 to 7734\n",
            "Data columns (total 4 columns):\n",
            " #   Column     Non-Null Count  Dtype  \n",
            "---  ------     --------------  -----  \n",
            " 0   NAME       7735 non-null   object \n",
            " 1   STATE      7735 non-null   object \n",
            " 2   LATITUDE   7735 non-null   float64\n",
            " 3   LONGITUDE  7735 non-null   float64\n",
            "dtypes: float64(2), object(2)\n",
            "memory usage: 241.8+ KB\n"
          ],
          "name": "stdout"
        }
      ]
    },
    {
      "cell_type": "code",
      "metadata": {
        "id": "Bf8x6YXNLk7N",
        "colab_type": "code",
        "colab": {}
      },
      "source": [
        "#define function difference \n",
        "def best_guess ( usn_name ):\n",
        "  \"\"\"match possible univeristies in the two dataset \n",
        "\n",
        "  Args: \n",
        "    usn_name : str \n",
        "    the school name you trying to guess \n",
        "\n",
        "  Result : str\n",
        "    Most close university name \n",
        "\n",
        "  \"\"\"\n",
        "  if usn_name in list( df['Institution'] ):\n",
        "      return usn_name\n",
        "  else:\n",
        "      close_ones = difflib.get_close_matches( usn_name, list( university['NAME'] ), 1)\n",
        "      if len( close_ones ) > 0:\n",
        "          return close_ones[0]\n",
        "      else:\n",
        "          return np.nan"
      ],
      "execution_count": 0,
      "outputs": []
    },
    {
      "cell_type": "code",
      "metadata": {
        "id": "M0yxxinWNYHT",
        "colab_type": "code",
        "outputId": "84f0624a-a79c-4502-adf5-d89c566acfa5",
        "colab": {
          "base_uri": "https://localhost:8080/",
          "height": 504
        }
      },
      "source": [
        "#apply best guess \n",
        "university['instition'] = university['NAME'].apply( best_guess )\n",
        "university"
      ],
      "execution_count": 0,
      "outputs": [
        {
          "output_type": "execute_result",
          "data": {
            "text/html": [
              "<div>\n",
              "<style scoped>\n",
              "    .dataframe tbody tr th:only-of-type {\n",
              "        vertical-align: middle;\n",
              "    }\n",
              "\n",
              "    .dataframe tbody tr th {\n",
              "        vertical-align: top;\n",
              "    }\n",
              "\n",
              "    .dataframe thead th {\n",
              "        text-align: right;\n",
              "    }\n",
              "</style>\n",
              "<table border=\"1\" class=\"dataframe\">\n",
              "  <thead>\n",
              "    <tr style=\"text-align: right;\">\n",
              "      <th></th>\n",
              "      <th>NAME</th>\n",
              "      <th>STATE</th>\n",
              "      <th>LATITUDE</th>\n",
              "      <th>LONGITUDE</th>\n",
              "      <th>instition</th>\n",
              "    </tr>\n",
              "  </thead>\n",
              "  <tbody>\n",
              "    <tr>\n",
              "      <th>0</th>\n",
              "      <td>Shorter College</td>\n",
              "      <td>AR</td>\n",
              "      <td>34.759308</td>\n",
              "      <td>-92.260490</td>\n",
              "      <td>Shorter College</td>\n",
              "    </tr>\n",
              "    <tr>\n",
              "      <th>1</th>\n",
              "      <td>Citrus Heights Beauty College</td>\n",
              "      <td>CA</td>\n",
              "      <td>38.713353</td>\n",
              "      <td>-121.289431</td>\n",
              "      <td>Citrus Heights Beauty College</td>\n",
              "    </tr>\n",
              "    <tr>\n",
              "      <th>2</th>\n",
              "      <td>Joe Blasco Makeup Artist Training Center</td>\n",
              "      <td>CA</td>\n",
              "      <td>34.101481</td>\n",
              "      <td>-118.287070</td>\n",
              "      <td>Joe Blasco Makeup Artist Training Center</td>\n",
              "    </tr>\n",
              "    <tr>\n",
              "      <th>3</th>\n",
              "      <td>Waynes College of Beauty</td>\n",
              "      <td>CA</td>\n",
              "      <td>36.700631</td>\n",
              "      <td>-121.652662</td>\n",
              "      <td>Waynes College of Beauty</td>\n",
              "    </tr>\n",
              "    <tr>\n",
              "      <th>4</th>\n",
              "      <td>Hult International Business School</td>\n",
              "      <td>MA</td>\n",
              "      <td>42.369930</td>\n",
              "      <td>-71.070737</td>\n",
              "      <td>Hult International Business School</td>\n",
              "    </tr>\n",
              "    <tr>\n",
              "      <th>...</th>\n",
              "      <td>...</td>\n",
              "      <td>...</td>\n",
              "      <td>...</td>\n",
              "      <td>...</td>\n",
              "      <td>...</td>\n",
              "    </tr>\n",
              "    <tr>\n",
              "      <th>7730</th>\n",
              "      <td>Connecticut Center for Massage Therapy-Groton</td>\n",
              "      <td>CT</td>\n",
              "      <td>41.347074</td>\n",
              "      <td>-72.042638</td>\n",
              "      <td>Connecticut Center for Massage Therapy-Groton</td>\n",
              "    </tr>\n",
              "    <tr>\n",
              "      <th>7731</th>\n",
              "      <td>Pierpont Community and Technical College</td>\n",
              "      <td>WV</td>\n",
              "      <td>39.482878</td>\n",
              "      <td>-80.160335</td>\n",
              "      <td>Pierpont Community and Technical College</td>\n",
              "    </tr>\n",
              "    <tr>\n",
              "      <th>7732</th>\n",
              "      <td>Universal College of Beauty Inc-Compton</td>\n",
              "      <td>CA</td>\n",
              "      <td>33.895708</td>\n",
              "      <td>-118.236350</td>\n",
              "      <td>Universal College of Beauty Inc-Compton</td>\n",
              "    </tr>\n",
              "    <tr>\n",
              "      <th>7733</th>\n",
              "      <td>ITT Technical Institute-Duluth</td>\n",
              "      <td>GA</td>\n",
              "      <td>34.042875</td>\n",
              "      <td>-84.176526</td>\n",
              "      <td>ITT Technical Institute-Duluth</td>\n",
              "    </tr>\n",
              "    <tr>\n",
              "      <th>7734</th>\n",
              "      <td>ITT Technical Institute-Hilliard</td>\n",
              "      <td>OH</td>\n",
              "      <td>40.030759</td>\n",
              "      <td>-83.121729</td>\n",
              "      <td>ITT Technical Institute-Hilliard</td>\n",
              "    </tr>\n",
              "  </tbody>\n",
              "</table>\n",
              "<p>7735 rows × 5 columns</p>\n",
              "</div>"
            ],
            "text/plain": [
              "                                               NAME  ...                                      instition\n",
              "0                                   Shorter College  ...                                Shorter College\n",
              "1                     Citrus Heights Beauty College  ...                  Citrus Heights Beauty College\n",
              "2          Joe Blasco Makeup Artist Training Center  ...       Joe Blasco Makeup Artist Training Center\n",
              "3                          Waynes College of Beauty  ...                       Waynes College of Beauty\n",
              "4                Hult International Business School  ...             Hult International Business School\n",
              "...                                             ...  ...                                            ...\n",
              "7730  Connecticut Center for Massage Therapy-Groton  ...  Connecticut Center for Massage Therapy-Groton\n",
              "7731       Pierpont Community and Technical College  ...       Pierpont Community and Technical College\n",
              "7732        Universal College of Beauty Inc-Compton  ...        Universal College of Beauty Inc-Compton\n",
              "7733                 ITT Technical Institute-Duluth  ...                 ITT Technical Institute-Duluth\n",
              "7734               ITT Technical Institute-Hilliard  ...               ITT Technical Institute-Hilliard\n",
              "\n",
              "[7735 rows x 5 columns]"
            ]
          },
          "metadata": {
            "tags": []
          },
          "execution_count": 85
        }
      ]
    },
    {
      "cell_type": "code",
      "metadata": {
        "id": "puYNQlFOmeE2",
        "colab_type": "code",
        "outputId": "50e2f463-5a4c-4ff6-8a16-4ac66bf74dd5",
        "colab": {
          "base_uri": "https://localhost:8080/",
          "height": 529
        }
      },
      "source": [
        "# merge institution and university \n",
        "df_new = pd.merge(df,university,how='left',\n",
        "                   left_on='Institution', right_on='instition')\n",
        "df_new.drop(columns = ['NAME','STATE','instition'],inplace = True)\n",
        "df_new.head(10)"
      ],
      "execution_count": 0,
      "outputs": [
        {
          "output_type": "execute_result",
          "data": {
            "text/html": [
              "<div>\n",
              "<style scoped>\n",
              "    .dataframe tbody tr th:only-of-type {\n",
              "        vertical-align: middle;\n",
              "    }\n",
              "\n",
              "    .dataframe tbody tr th {\n",
              "        vertical-align: top;\n",
              "    }\n",
              "\n",
              "    .dataframe thead th {\n",
              "        text-align: right;\n",
              "    }\n",
              "</style>\n",
              "<table border=\"1\" class=\"dataframe\">\n",
              "  <thead>\n",
              "    <tr style=\"text-align: right;\">\n",
              "      <th></th>\n",
              "      <th>Institution</th>\n",
              "      <th>Control</th>\n",
              "      <th>State</th>\n",
              "      <th>plan</th>\n",
              "      <th>LATITUDE</th>\n",
              "      <th>LONGITUDE</th>\n",
              "    </tr>\n",
              "  </thead>\n",
              "  <tbody>\n",
              "    <tr>\n",
              "      <th>0</th>\n",
              "      <td>California State University — Bakersfield</td>\n",
              "      <td>Public</td>\n",
              "      <td>CA</td>\n",
              "      <td>Planning for online</td>\n",
              "      <td>NaN</td>\n",
              "      <td>NaN</td>\n",
              "    </tr>\n",
              "    <tr>\n",
              "      <th>1</th>\n",
              "      <td>California State University — Channel Islands</td>\n",
              "      <td>Public</td>\n",
              "      <td>CA</td>\n",
              "      <td>Planning for online</td>\n",
              "      <td>NaN</td>\n",
              "      <td>NaN</td>\n",
              "    </tr>\n",
              "    <tr>\n",
              "      <th>2</th>\n",
              "      <td>California State University — Chico</td>\n",
              "      <td>Public</td>\n",
              "      <td>CA</td>\n",
              "      <td>Planning for online</td>\n",
              "      <td>NaN</td>\n",
              "      <td>NaN</td>\n",
              "    </tr>\n",
              "    <tr>\n",
              "      <th>3</th>\n",
              "      <td>California State University — Dominguez Hills</td>\n",
              "      <td>Public</td>\n",
              "      <td>CA</td>\n",
              "      <td>Planning for online</td>\n",
              "      <td>NaN</td>\n",
              "      <td>NaN</td>\n",
              "    </tr>\n",
              "    <tr>\n",
              "      <th>4</th>\n",
              "      <td>California State University — East Bay</td>\n",
              "      <td>Public</td>\n",
              "      <td>CA</td>\n",
              "      <td>Planning for online</td>\n",
              "      <td>NaN</td>\n",
              "      <td>NaN</td>\n",
              "    </tr>\n",
              "    <tr>\n",
              "      <th>5</th>\n",
              "      <td>California State University — Fresno State</td>\n",
              "      <td>Public</td>\n",
              "      <td>CA</td>\n",
              "      <td>Planning for online</td>\n",
              "      <td>NaN</td>\n",
              "      <td>NaN</td>\n",
              "    </tr>\n",
              "    <tr>\n",
              "      <th>6</th>\n",
              "      <td>California State University — Fullerton</td>\n",
              "      <td>Public</td>\n",
              "      <td>CA</td>\n",
              "      <td>Planning for online</td>\n",
              "      <td>NaN</td>\n",
              "      <td>NaN</td>\n",
              "    </tr>\n",
              "    <tr>\n",
              "      <th>7</th>\n",
              "      <td>California State University — Humboldt</td>\n",
              "      <td>Public</td>\n",
              "      <td>CA</td>\n",
              "      <td>Planning for online</td>\n",
              "      <td>NaN</td>\n",
              "      <td>NaN</td>\n",
              "    </tr>\n",
              "    <tr>\n",
              "      <th>8</th>\n",
              "      <td>California State University — Long Beach</td>\n",
              "      <td>Public</td>\n",
              "      <td>CA</td>\n",
              "      <td>Planning for online</td>\n",
              "      <td>NaN</td>\n",
              "      <td>NaN</td>\n",
              "    </tr>\n",
              "    <tr>\n",
              "      <th>9</th>\n",
              "      <td>California State University — Los Angeles</td>\n",
              "      <td>Public</td>\n",
              "      <td>CA</td>\n",
              "      <td>Planning for online</td>\n",
              "      <td>NaN</td>\n",
              "      <td>NaN</td>\n",
              "    </tr>\n",
              "  </tbody>\n",
              "</table>\n",
              "</div>"
            ],
            "text/plain": [
              "                                     Institution Control  ... LATITUDE LONGITUDE\n",
              "0      California State University — Bakersfield  Public  ...      NaN       NaN\n",
              "1  California State University — Channel Islands  Public  ...      NaN       NaN\n",
              "2            California State University — Chico  Public  ...      NaN       NaN\n",
              "3  California State University — Dominguez Hills  Public  ...      NaN       NaN\n",
              "4         California State University — East Bay  Public  ...      NaN       NaN\n",
              "5     California State University — Fresno State  Public  ...      NaN       NaN\n",
              "6        California State University — Fullerton  Public  ...      NaN       NaN\n",
              "7         California State University — Humboldt  Public  ...      NaN       NaN\n",
              "8       California State University — Long Beach  Public  ...      NaN       NaN\n",
              "9      California State University — Los Angeles  Public  ...      NaN       NaN\n",
              "\n",
              "[10 rows x 6 columns]"
            ]
          },
          "metadata": {
            "tags": []
          },
          "execution_count": 91
        }
      ]
    },
    {
      "cell_type": "code",
      "metadata": {
        "id": "nrsHVcYpmKkr",
        "colab_type": "code",
        "colab": {}
      },
      "source": [
        "df_new.to_csv('new.csv')"
      ],
      "execution_count": 0,
      "outputs": []
    }
  ]
}